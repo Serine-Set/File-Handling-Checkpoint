{
 "cells": [
  {
   "cell_type": "code",
   "execution_count": 7,
   "metadata": {},
   "outputs": [],
   "source": [
    "import numpy as np\n",
    "\n",
    "# Open the CSV file\n",
    "file_path = 'File Handling Data_Loan_prediction_Checkpoint.csv'  \n",
    "with open(file_path, 'r') as file:\n",
    "    data = np.genfromtxt(file, delimiter=',', skip_header=1) \n"
   ]
  },
  {
   "cell_type": "code",
   "execution_count": null,
   "metadata": {},
   "outputs": [
    {
     "name": "stdout",
     "output_type": "stream",
     "text": [
      "Mean Loan Amount: nan\n",
      "Median Loan Amount: nan\n",
      "Standard Deviation of Loan Amounts: nan\n"
     ]
    }
   ],
   "source": [
    "loan_amounts = data[:, -1] \n",
    "\n",
    "mean_loan = np.mean(loan_amounts)\n",
    "median_loan = np.median(loan_amounts)\n",
    "std_loan = np.std(loan_amounts)\n",
    "\n",
    "print(f'Mean Loan Amount: {mean_loan}')\n",
    "print(f'Median Loan Amount: {median_loan}')\n",
    "print(f'Standard Deviation of Loan Amounts: {std_loan}')"
   ]
  }
 ],
 "metadata": {
  "kernelspec": {
   "display_name": "Python 3",
   "language": "python",
   "name": "python3"
  },
  "language_info": {
   "codemirror_mode": {
    "name": "ipython",
    "version": 3
   },
   "file_extension": ".py",
   "mimetype": "text/x-python",
   "name": "python",
   "nbconvert_exporter": "python",
   "pygments_lexer": "ipython3",
   "version": "3.13.0"
  }
 },
 "nbformat": 4,
 "nbformat_minor": 2
}
